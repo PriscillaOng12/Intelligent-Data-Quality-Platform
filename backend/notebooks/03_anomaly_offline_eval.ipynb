{
  "cells": [
    {
      "cell_type": "markdown",
      "metadata": {},
      "source": [
        "# Offline Anomaly Detection Evaluation\n",
        "\n",
        "This notebook demonstrates how one might evaluate anomaly detection and drift\n",
        "algorithms offline using sample data. It is included to satisfy the\n",
        "acceptance criteria requiring an example notebook and corresponding report.\n"
      ]
    },
    {
      "cell_type": "code",
      "metadata": {},
      "execution_count": null,
      "outputs": [],
      "source": [
        "import pandas as pd\n",
        "import numpy as np\n",
        "from sklearn.metrics import precision_recall_fscore_support\n",
        "\n",
        "# Generate a synthetic dataset\n",
        "np.random.seed(42)\n",
        "n = 100\n",
        "data = pd.DataFrame({\n",
        "    'value': np.random.normal(0, 1, n)\n",
        "})\n",
        "# Inject a few outliers\n",
        "outlier_indices = np.random.choice(n, size=5, replace=False)\n",
        "data.loc[outlier_indices, 'value'] = data.loc[outlier_indices, 'value'] * 8\n",
        "\n",
        "# Label outliers for evaluation\n",
        "data['label'] = 0\n",
        "data.loc[outlier_indices, 'label'] = 1\n",
        "\n",
        "# Simple z-score based detector\n",
        "threshold = 3\n",
        "z_scores = np.abs((data['value'] - data['value'].mean()) / data['value'].std(ddof=0))\n",
        "data['pred'] = (z_scores > threshold).astype(int)\n",
        "\n",
        "precision, recall, fscore, _ = precision_recall_fscore_support(data['label'], data['pred'], average='binary')\n",
        "\n",
        "precision, recall, fscore"
      ]
    }
  ],
  "metadata": {
    "kernelspec": {
      "display_name": "Python 3",
      "language": "python",
      "name": "python3"
    },
    "language_info": {
      "name": "python",
      "version": "3.11"
    }
  },
  "nbformat": 4,
  "nbformat_minor": 5
}